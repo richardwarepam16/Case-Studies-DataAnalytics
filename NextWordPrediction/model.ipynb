{
 "cells": [
  {
   "cell_type": "code",
   "execution_count": 1,
   "metadata": {},
   "outputs": [],
   "source": [
    "import numpy as np\n",
    "import tensorflow as tf"
   ]
  },
  {
   "cell_type": "code",
   "execution_count": 2,
   "metadata": {},
   "outputs": [],
   "source": [
    "with open('sherlock-holm.es_stories_plain-text_advs.txt', 'r', encoding= 'utf-8') as file:\n",
    "    text = file.read()"
   ]
  },
  {
   "cell_type": "code",
   "execution_count": 4,
   "metadata": {},
   "outputs": [],
   "source": [
    "from tensorflow.keras.preprocessing.text import Tokenizer\n",
    "from tensorflow.keras.preprocessing.sequence import pad_sequences\n",
    "from tensorflow.keras.models import Sequential\n",
    "from tensorflow.keras.layers import Embedding, LSTM, Dense"
   ]
  },
  {
   "cell_type": "code",
   "execution_count": 6,
   "metadata": {},
   "outputs": [],
   "source": [
    "tokenizer = Tokenizer()\n",
    "tokenizer.fit_on_texts([text])\n",
    "total_words = len(tokenizer.word_index) + 1"
   ]
  },
  {
   "cell_type": "code",
   "execution_count": 7,
   "metadata": {},
   "outputs": [],
   "source": [
    "input_sequences = []\n",
    "for line in text.split('\\n'):\n",
    "    token_list = tokenizer.texts_to_sequences([line])[0]\n",
    "    for i in range(1, len(token_list)):\n",
    "        n_gram_sequence = token_list[:i+1]\n",
    "        input_sequences.append(n_gram_sequence)"
   ]
  },
  {
   "cell_type": "code",
   "execution_count": 8,
   "metadata": {},
   "outputs": [],
   "source": [
    "max_sequence_len = max([len(seq) for seq in input_sequences])\n",
    "input_sequences = np.array(pad_sequences(input_sequences, maxlen= max_sequence_len, padding= 'pre'))"
   ]
  },
  {
   "cell_type": "code",
   "execution_count": 9,
   "metadata": {},
   "outputs": [],
   "source": [
    "X = input_sequences[:, :-1]\n",
    "y = input_sequences[:, -1]"
   ]
  },
  {
   "cell_type": "code",
   "execution_count": 10,
   "metadata": {},
   "outputs": [],
   "source": [
    "y = np.array(tf.keras.utils.to_categorical(y, num_classes=total_words))"
   ]
  },
  {
   "cell_type": "code",
   "execution_count": 11,
   "metadata": {},
   "outputs": [
    {
     "name": "stdout",
     "output_type": "stream",
     "text": [
      "Model: \"sequential\"\n",
      "_________________________________________________________________\n",
      " Layer (type)                Output Shape              Param #   \n",
      "=================================================================\n",
      " embedding (Embedding)       (None, 17, 100)           820000    \n",
      "                                                                 \n",
      " lstm (LSTM)                 (None, 150)               150600    \n",
      "                                                                 \n",
      " dense (Dense)               (None, 8200)              1238200   \n",
      "                                                                 \n",
      "=================================================================\n",
      "Total params: 2,208,800\n",
      "Trainable params: 2,208,800\n",
      "Non-trainable params: 0\n",
      "_________________________________________________________________\n",
      "None\n"
     ]
    }
   ],
   "source": [
    "model = Sequential()\n",
    "model.add(Embedding(total_words, 100, input_length = max_sequence_len - 1))\n",
    "model.add(LSTM(150))\n",
    "model.add(Dense(total_words, activation = 'softmax'))\n",
    "print(model.summary())"
   ]
  },
  {
   "cell_type": "code",
   "execution_count": 12,
   "metadata": {},
   "outputs": [
    {
     "name": "stdout",
     "output_type": "stream",
     "text": [
      "Epoch 1/100\n",
      "3010/3010 [==============================] - 150s 49ms/step - loss: 6.2235 - accuracy: 0.0784\n",
      "Epoch 2/100\n",
      "3010/3010 [==============================] - 145s 48ms/step - loss: 5.4990 - accuracy: 0.1253\n",
      "Epoch 3/100\n",
      "3010/3010 [==============================] - 142s 47ms/step - loss: 5.1173 - accuracy: 0.1487\n",
      "Epoch 4/100\n",
      "3010/3010 [==============================] - 147s 49ms/step - loss: 4.7840 - accuracy: 0.1664\n",
      "Epoch 5/100\n",
      "3010/3010 [==============================] - 146s 49ms/step - loss: 4.4779 - accuracy: 0.1836\n",
      "Epoch 6/100\n",
      "3010/3010 [==============================] - 315s 105ms/step - loss: 4.1925 - accuracy: 0.2037\n",
      "Epoch 7/100\n",
      "3010/3010 [==============================] - 163s 54ms/step - loss: 3.9213 - accuracy: 0.2295\n",
      "Epoch 8/100\n",
      "3010/3010 [==============================] - 172s 57ms/step - loss: 3.6646 - accuracy: 0.2584\n",
      "Epoch 9/100\n",
      "3010/3010 [==============================] - 177s 59ms/step - loss: 3.4219 - accuracy: 0.2924\n",
      "Epoch 10/100\n",
      "3010/3010 [==============================] - 175s 58ms/step - loss: 3.1955 - accuracy: 0.3263\n",
      "Epoch 11/100\n",
      "3010/3010 [==============================] - 174s 58ms/step - loss: 2.9876 - accuracy: 0.3626\n",
      "Epoch 12/100\n",
      "3010/3010 [==============================] - 176s 59ms/step - loss: 2.7960 - accuracy: 0.3961\n",
      "Epoch 13/100\n",
      "3010/3010 [==============================] - 176s 59ms/step - loss: 2.6175 - accuracy: 0.4282\n",
      "Epoch 14/100\n",
      "3010/3010 [==============================] - 176s 58ms/step - loss: 2.4541 - accuracy: 0.4603\n",
      "Epoch 15/100\n",
      "3010/3010 [==============================] - 179s 60ms/step - loss: 2.3014 - accuracy: 0.4914\n",
      "Epoch 16/100\n",
      "3010/3010 [==============================] - 178s 59ms/step - loss: 2.1641 - accuracy: 0.5191\n",
      "Epoch 17/100\n",
      "3010/3010 [==============================] - 178s 59ms/step - loss: 2.0383 - accuracy: 0.5452\n",
      "Epoch 18/100\n",
      "3010/3010 [==============================] - 178s 59ms/step - loss: 1.9192 - accuracy: 0.5702\n",
      "Epoch 19/100\n",
      "3010/3010 [==============================] - 178s 59ms/step - loss: 1.8130 - accuracy: 0.5915\n",
      "Epoch 20/100\n",
      "3010/3010 [==============================] - 178s 59ms/step - loss: 1.7139 - accuracy: 0.6140\n",
      "Epoch 21/100\n",
      "3010/3010 [==============================] - 178s 59ms/step - loss: 1.6230 - accuracy: 0.6336\n",
      "Epoch 22/100\n",
      "3010/3010 [==============================] - 179s 60ms/step - loss: 1.5397 - accuracy: 0.6516\n",
      "Epoch 23/100\n",
      "3010/3010 [==============================] - 178s 59ms/step - loss: 1.4625 - accuracy: 0.6672\n",
      "Epoch 24/100\n",
      "3010/3010 [==============================] - 176s 58ms/step - loss: 1.3918 - accuracy: 0.6845\n",
      "Epoch 25/100\n",
      "3010/3010 [==============================] - 178s 59ms/step - loss: 1.3279 - accuracy: 0.6995\n",
      "Epoch 26/100\n",
      "3010/3010 [==============================] - 180s 60ms/step - loss: 1.2683 - accuracy: 0.7110\n",
      "Epoch 27/100\n",
      "3010/3010 [==============================] - 184s 61ms/step - loss: 1.2112 - accuracy: 0.7242\n",
      "Epoch 28/100\n",
      "3010/3010 [==============================] - 181s 60ms/step - loss: 1.1613 - accuracy: 0.7356\n",
      "Epoch 29/100\n",
      "3010/3010 [==============================] - 181s 60ms/step - loss: 1.1121 - accuracy: 0.7477\n",
      "Epoch 30/100\n",
      "3010/3010 [==============================] - 181s 60ms/step - loss: 1.0728 - accuracy: 0.7548\n",
      "Epoch 31/100\n",
      "3010/3010 [==============================] - 181s 60ms/step - loss: 1.0317 - accuracy: 0.7630\n",
      "Epoch 32/100\n",
      "3010/3010 [==============================] - 184s 61ms/step - loss: 0.9988 - accuracy: 0.7707\n",
      "Epoch 33/100\n",
      "3010/3010 [==============================] - 183s 61ms/step - loss: 0.9608 - accuracy: 0.7793\n",
      "Epoch 34/100\n",
      "3010/3010 [==============================] - 182s 60ms/step - loss: 0.9302 - accuracy: 0.7862\n",
      "Epoch 35/100\n",
      "3010/3010 [==============================] - 174s 58ms/step - loss: 0.9038 - accuracy: 0.7918\n",
      "Epoch 36/100\n",
      "3010/3010 [==============================] - 159s 53ms/step - loss: 0.8756 - accuracy: 0.7967\n",
      "Epoch 37/100\n",
      "3010/3010 [==============================] - 202s 67ms/step - loss: 0.8533 - accuracy: 0.8023\n",
      "Epoch 38/100\n",
      "3010/3010 [==============================] - 169s 56ms/step - loss: 0.8323 - accuracy: 0.8059\n",
      "Epoch 39/100\n",
      "3010/3010 [==============================] - 189s 63ms/step - loss: 0.8057 - accuracy: 0.8126\n",
      "Epoch 40/100\n",
      "3010/3010 [==============================] - 180s 60ms/step - loss: 0.7877 - accuracy: 0.8169\n",
      "Epoch 41/100\n",
      "3010/3010 [==============================] - 187s 62ms/step - loss: 0.7717 - accuracy: 0.8190\n",
      "Epoch 42/100\n",
      "3010/3010 [==============================] - 183s 61ms/step - loss: 0.7556 - accuracy: 0.8223\n",
      "Epoch 43/100\n",
      "3010/3010 [==============================] - 174s 58ms/step - loss: 0.7399 - accuracy: 0.8258\n",
      "Epoch 44/100\n",
      "3010/3010 [==============================] - 183s 61ms/step - loss: 0.7253 - accuracy: 0.8292\n",
      "Epoch 45/100\n",
      "3010/3010 [==============================] - 194s 64ms/step - loss: 0.7111 - accuracy: 0.8321\n",
      "Epoch 46/100\n",
      "3010/3010 [==============================] - 171s 57ms/step - loss: 0.6990 - accuracy: 0.8343\n",
      "Epoch 47/100\n",
      "3010/3010 [==============================] - 174s 58ms/step - loss: 0.6875 - accuracy: 0.8373\n",
      "Epoch 48/100\n",
      "3010/3010 [==============================] - 179s 59ms/step - loss: 0.6766 - accuracy: 0.8385\n",
      "Epoch 49/100\n",
      "3010/3010 [==============================] - 174s 58ms/step - loss: 0.6668 - accuracy: 0.8409\n",
      "Epoch 50/100\n",
      "3010/3010 [==============================] - 187s 62ms/step - loss: 0.6606 - accuracy: 0.8414\n",
      "Epoch 51/100\n",
      "3010/3010 [==============================] - 160s 53ms/step - loss: 0.6489 - accuracy: 0.8439\n",
      "Epoch 52/100\n",
      "3010/3010 [==============================] - 168s 56ms/step - loss: 0.6418 - accuracy: 0.8462\n",
      "Epoch 53/100\n",
      "3010/3010 [==============================] - 193s 64ms/step - loss: 0.6337 - accuracy: 0.8471\n",
      "Epoch 54/100\n",
      "3010/3010 [==============================] - 193s 64ms/step - loss: 0.6259 - accuracy: 0.8483\n",
      "Epoch 55/100\n",
      "3010/3010 [==============================] - 190s 63ms/step - loss: 0.6177 - accuracy: 0.8510\n",
      "Epoch 56/100\n",
      "3010/3010 [==============================] - 189s 63ms/step - loss: 0.6113 - accuracy: 0.8506\n",
      "Epoch 57/100\n",
      "3010/3010 [==============================] - 188s 63ms/step - loss: 0.6091 - accuracy: 0.8517\n",
      "Epoch 58/100\n",
      "3010/3010 [==============================] - 188s 62ms/step - loss: 0.6030 - accuracy: 0.8531\n",
      "Epoch 59/100\n",
      "3010/3010 [==============================] - 187s 62ms/step - loss: 0.5988 - accuracy: 0.8525\n",
      "Epoch 60/100\n",
      "3010/3010 [==============================] - 188s 62ms/step - loss: 0.5919 - accuracy: 0.8554\n",
      "Epoch 61/100\n",
      "3010/3010 [==============================] - 187s 62ms/step - loss: 0.5875 - accuracy: 0.8556\n",
      "Epoch 62/100\n",
      "3010/3010 [==============================] - 188s 62ms/step - loss: 0.5825 - accuracy: 0.8566\n",
      "Epoch 63/100\n",
      "3010/3010 [==============================] - 189s 63ms/step - loss: 0.5831 - accuracy: 0.8553\n",
      "Epoch 64/100\n",
      "3010/3010 [==============================] - 188s 62ms/step - loss: 0.5744 - accuracy: 0.8571\n",
      "Epoch 65/100\n",
      "3010/3010 [==============================] - 190s 63ms/step - loss: 0.5747 - accuracy: 0.8576\n",
      "Epoch 66/100\n",
      "3010/3010 [==============================] - 190s 63ms/step - loss: 0.5643 - accuracy: 0.8595\n",
      "Epoch 67/100\n",
      "3010/3010 [==============================] - 189s 63ms/step - loss: 0.5654 - accuracy: 0.8591\n",
      "Epoch 68/100\n",
      "3010/3010 [==============================] - 190s 63ms/step - loss: 0.5606 - accuracy: 0.8594\n",
      "Epoch 69/100\n",
      "3010/3010 [==============================] - 191s 63ms/step - loss: 0.5596 - accuracy: 0.8603\n",
      "Epoch 70/100\n",
      "3010/3010 [==============================] - 190s 63ms/step - loss: 0.5575 - accuracy: 0.8604\n",
      "Epoch 71/100\n",
      "3010/3010 [==============================] - 190s 63ms/step - loss: 0.5535 - accuracy: 0.8607\n",
      "Epoch 72/100\n",
      "3010/3010 [==============================] - 189s 63ms/step - loss: 0.5503 - accuracy: 0.8616\n",
      "Epoch 73/100\n",
      "3010/3010 [==============================] - 189s 63ms/step - loss: 0.5479 - accuracy: 0.8617\n",
      "Epoch 74/100\n",
      "3010/3010 [==============================] - 191s 63ms/step - loss: 0.5448 - accuracy: 0.8627\n",
      "Epoch 75/100\n",
      "3010/3010 [==============================] - 188s 62ms/step - loss: 0.5452 - accuracy: 0.8620\n",
      "Epoch 76/100\n",
      "3010/3010 [==============================] - 193s 64ms/step - loss: 0.5451 - accuracy: 0.8607\n",
      "Epoch 77/100\n",
      "3010/3010 [==============================] - 191s 63ms/step - loss: 0.5391 - accuracy: 0.8624\n",
      "Epoch 78/100\n",
      "3010/3010 [==============================] - 191s 64ms/step - loss: 0.5440 - accuracy: 0.8603\n",
      "Epoch 79/100\n",
      "3010/3010 [==============================] - 191s 63ms/step - loss: 0.5331 - accuracy: 0.8640\n",
      "Epoch 80/100\n",
      "3010/3010 [==============================] - 189s 63ms/step - loss: 0.5376 - accuracy: 0.8623\n",
      "Epoch 81/100\n",
      "3010/3010 [==============================] - 191s 63ms/step - loss: 0.5370 - accuracy: 0.8622\n",
      "Epoch 82/100\n",
      "3010/3010 [==============================] - 191s 64ms/step - loss: 0.5388 - accuracy: 0.8619\n",
      "Epoch 83/100\n",
      "3010/3010 [==============================] - 188s 62ms/step - loss: 0.5302 - accuracy: 0.8632\n",
      "Epoch 84/100\n",
      "3010/3010 [==============================] - 188s 62ms/step - loss: 0.5333 - accuracy: 0.8630\n",
      "Epoch 85/100\n",
      "3010/3010 [==============================] - 192s 64ms/step - loss: 0.5273 - accuracy: 0.8642\n",
      "Epoch 86/100\n",
      "3010/3010 [==============================] - 190s 63ms/step - loss: 0.5261 - accuracy: 0.8645\n",
      "Epoch 87/100\n",
      "3010/3010 [==============================] - 189s 63ms/step - loss: 0.5248 - accuracy: 0.8641\n",
      "Epoch 88/100\n",
      "3010/3010 [==============================] - 188s 63ms/step - loss: 0.5280 - accuracy: 0.8629\n",
      "Epoch 89/100\n",
      "3010/3010 [==============================] - 188s 62ms/step - loss: 0.5241 - accuracy: 0.8639\n",
      "Epoch 90/100\n",
      "3010/3010 [==============================] - 190s 63ms/step - loss: 0.5247 - accuracy: 0.8638\n",
      "Epoch 91/100\n",
      "3010/3010 [==============================] - 190s 63ms/step - loss: 0.5235 - accuracy: 0.8640\n",
      "Epoch 92/100\n",
      "3010/3010 [==============================] - 188s 63ms/step - loss: 0.5228 - accuracy: 0.8642\n",
      "Epoch 93/100\n",
      "3010/3010 [==============================] - 188s 62ms/step - loss: 0.5260 - accuracy: 0.8630\n",
      "Epoch 94/100\n",
      "3010/3010 [==============================] - 188s 62ms/step - loss: 0.5166 - accuracy: 0.8654\n",
      "Epoch 95/100\n",
      "3010/3010 [==============================] - 190s 63ms/step - loss: 0.5218 - accuracy: 0.8639\n",
      "Epoch 96/100\n",
      "3010/3010 [==============================] - 190s 63ms/step - loss: 0.5217 - accuracy: 0.8636\n",
      "Epoch 97/100\n",
      "3010/3010 [==============================] - 188s 63ms/step - loss: 0.5198 - accuracy: 0.8640\n",
      "Epoch 98/100\n",
      "3010/3010 [==============================] - 176s 59ms/step - loss: 0.5178 - accuracy: 0.8643\n",
      "Epoch 99/100\n",
      "3010/3010 [==============================] - 162s 54ms/step - loss: 0.5198 - accuracy: 0.8638\n",
      "Epoch 100/100\n",
      "3010/3010 [==============================] - 162s 54ms/step - loss: 0.5219 - accuracy: 0.8623\n"
     ]
    },
    {
     "data": {
      "text/plain": [
       "<keras.callbacks.History at 0x7fb0a5dfda50>"
      ]
     },
     "execution_count": 12,
     "metadata": {},
     "output_type": "execute_result"
    }
   ],
   "source": [
    "model.compile(loss = 'categorical_crossentropy', optimizer = 'adam', metrics = ['accuracy'])\n",
    "model.fit(X,y, epochs = 100, verbose= 1)"
   ]
  },
  {
   "cell_type": "code",
   "execution_count": 22,
   "metadata": {},
   "outputs": [
    {
     "name": "stdout",
     "output_type": "stream",
     "text": [
      "1/1 [==============================] - 0s 34ms/step\n",
      "1/1 [==============================] - 0s 28ms/step\n",
      "1/1 [==============================] - 0s 29ms/step\n",
      "1/1 [==============================] - 0s 29ms/step\n",
      "1/1 [==============================] - 0s 28ms/step\n",
      "1/1 [==============================] - 0s 28ms/step\n",
      "I will talk if they were peculiar alive and my mind\n"
     ]
    }
   ],
   "source": [
    "seed_text = \"I will talk if they\"\n",
    "next_words = 6\n",
    "\n",
    "for _ in range(next_words):\n",
    "    token_list = tokenizer.texts_to_sequences([seed_text])[0]\n",
    "    token_list = pad_sequences([token_list], maxlen= max_sequence_len - 1, padding= 'pre')\n",
    "    predicted = np.argmax(model.predict(token_list), axis= -1)\n",
    "    output_word = \"\"\n",
    "    for word, index in tokenizer.word_index.items():\n",
    "        if index == predicted:\n",
    "            output_word = word\n",
    "            break\n",
    "    seed_text+= \" \" + output_word\n",
    "\n",
    "print(seed_text)"
   ]
  },
  {
   "cell_type": "code",
   "execution_count": null,
   "metadata": {},
   "outputs": [],
   "source": []
  }
 ],
 "metadata": {
  "kernelspec": {
   "display_name": "tf",
   "language": "python",
   "name": "python3"
  },
  "language_info": {
   "codemirror_mode": {
    "name": "ipython",
    "version": 3
   },
   "file_extension": ".py",
   "mimetype": "text/x-python",
   "name": "python",
   "nbconvert_exporter": "python",
   "pygments_lexer": "ipython3",
   "version": "3.10.10"
  },
  "orig_nbformat": 4
 },
 "nbformat": 4,
 "nbformat_minor": 2
}
